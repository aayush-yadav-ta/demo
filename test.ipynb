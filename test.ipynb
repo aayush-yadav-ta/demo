{
 "cells": [
  {
   "cell_type": "code",
   "execution_count": null,
   "id": "54b1019d",
   "metadata": {
    "vscode": {
     "languageId": "plaintext"
    }
   },
   "outputs": [],
   "source": [
    "import os\n",
    "from pyspark.sql import SparkSession\n",
    "\n",
    "spark = SparkSession.builder.appName(\"S3ATestApp\").getOrCreate()\n",
    "\n",
    "# Test with dummy data\n",
    "db_host = os.getenv(\"DB_HOST\")\n",
    "data = [(\"Alice\", 25), (\"Bob\", 30)]\n",
    "print(\"============test=======================\", db_host )\n",
    "df = spark.createDataFrame(data, [\"Name\", \"Age\"])\n",
    "df.show()\n",
    "\n",
    "# Example S3 write (uncomment after verifying access)\n",
    "# df.write.mode(\"overwrite\").parquet(\"s3a://your-bucket/test-output\")\n",
    "\n",
    "spark.stop()"
   ]
  }
 ],
 "metadata": {
  "language_info": {
   "name": "python"
  }
 },
 "nbformat": 4,
 "nbformat_minor": 5
}
